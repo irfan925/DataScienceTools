{
  "metadata": {
    "kernelspec": {
      "name": "python",
      "display_name": "Python (Pyodide)",
      "language": "python"
    },
    "language_info": {
      "codemirror_mode": {
        "name": "python",
        "version": 3
      },
      "file_extension": ".py",
      "mimetype": "text/x-python",
      "name": "python",
      "nbconvert_exporter": "python",
      "pygments_lexer": "ipython3",
      "version": "3.8"
    }
  },
  "nbformat_minor": 4,
  "nbformat": 4,
  "cells": [
    {
      "cell_type": "markdown",
      "source": "# DataScienceEcosystem",
      "metadata": {}
    },
    {
      "cell_type": "markdown",
      "source": "# Intoduction\n### This assignment is related to jupiter notebook",
      "metadata": {}
    },
    {
      "cell_type": "markdown",
      "source": "## ** Objective: **\n- Learn languages for Data Science\n- From requirements to data collection\n- Understanding to Data preparation\n- From modeling to evaluation of the system",
      "metadata": {}
    },
    {
      "cell_type": "markdown",
      "source": "### The following are the languages used in data science\n1. Python\n2. R\n3. SQL\n4. Scala\n5. Julia\n6. Java",
      "metadata": {}
    },
    {
      "cell_type": "markdown",
      "source": "### Follwing are the Python libraries used in data science\n1. NumPy\n2. Pandas\n3. Seaborn\n4. Matplotlib\n5. Scikit-learn\n6. SciPy\n7. TensorFlow",
      "metadata": {}
    },
    {
      "cell_type": "markdown",
      "source": "| Data Science | Tools |\n| --------- | -------- |\n| Apache Spark | Jupiter Notebook |\n|Apache Hadoop | MATLAB |",
      "metadata": {}
    },
    {
      "cell_type": "markdown",
      "source": "### Below are a few examples of evaluating arithmetic expressions in Python",
      "metadata": {}
    },
    {
      "cell_type": "markdown",
      "source": "",
      "metadata": {}
    }
  ]
}